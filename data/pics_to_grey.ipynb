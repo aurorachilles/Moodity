{
 "cells": [
  {
   "cell_type": "code",
   "execution_count": 1,
   "id": "initial_id",
   "metadata": {
    "collapsed": true,
    "ExecuteTime": {
     "end_time": "2024-03-23T17:38:33.855994Z",
     "start_time": "2024-03-23T17:38:33.443277900Z"
    }
   },
   "outputs": [],
   "source": [
    "import pandas\n",
    "import pandas as pd\n",
    "import numpy as np\n",
    "import cv2\n",
    "from tqdm import tqdm"
   ]
  },
  {
   "cell_type": "code",
   "outputs": [],
   "source": [
    "def img_to_arr_grey(data: pandas.DataFrame) -> [np.array, np.array]:\n",
    "    x_ = np.empty((0, 96, 96), dtype=int)\n",
    "    y_ = np.empty((0,), dtype=str)\n",
    "    for i in tqdm(range(data.shape[0])):\n",
    "        path = \"./dataset/\" + data.iloc[i, 0]\n",
    "        img = cv2.imread(path)\n",
    "        grey_s = cv2.cvtColor(img, cv2.COLOR_BGR2GRAY)\n",
    "        x_ = np.append(x_, [grey_s], axis=0)\n",
    "        y_ = np.append(y_, data.iloc[i, 1])\n",
    "    return [x_,y_]"
   ],
   "metadata": {
    "collapsed": false,
    "ExecuteTime": {
     "end_time": "2024-03-23T17:38:34.104840400Z",
     "start_time": "2024-03-23T17:38:34.092456700Z"
    }
   },
   "id": "fc6617dca17871be",
   "execution_count": 2
  },
  {
   "cell_type": "code",
   "outputs": [],
   "source": [
    "train_data = pd.read_csv('./dataset/train_data_labels.csv').drop(columns=['Unnamed: 0'])\n",
    "test_data = pd.read_csv('./dataset/test_data_labels.csv').drop(columns=['Unnamed: 0'])"
   ],
   "metadata": {
    "collapsed": false,
    "ExecuteTime": {
     "end_time": "2024-03-23T17:38:43.261387300Z",
     "start_time": "2024-03-23T17:38:43.202634Z"
    }
   },
   "id": "a0194a7ebf51937d",
   "execution_count": 3
  },
  {
   "cell_type": "code",
   "outputs": [
    {
     "name": "stderr",
     "output_type": "stream",
     "text": [
      "100%|██████████| 16906/16906 [13:22<00:00, 21.07it/s]\n"
     ]
    }
   ],
   "source": [
    "X_train, y_train = img_to_arr_grey(train_data)"
   ],
   "metadata": {
    "collapsed": false,
    "ExecuteTime": {
     "end_time": "2024-03-23T17:52:07.528755500Z",
     "start_time": "2024-03-23T17:38:45.255187200Z"
    }
   },
   "id": "d5eaa2959428b743",
   "execution_count": 4
  },
  {
   "cell_type": "code",
   "outputs": [
    {
     "name": "stderr",
     "output_type": "stream",
     "text": [
      "100%|██████████| 11269/11269 [06:35<00:00, 28.51it/s]\n"
     ]
    }
   ],
   "source": [
    "X_test, y_test = img_to_arr_grey(test_data)"
   ],
   "metadata": {
    "collapsed": false,
    "ExecuteTime": {
     "end_time": "2024-03-23T17:58:42.862470300Z",
     "start_time": "2024-03-23T17:52:07.532619Z"
    }
   },
   "id": "3b18f25d2c9a9248",
   "execution_count": 5
  },
  {
   "cell_type": "code",
   "outputs": [
    {
     "name": "stdout",
     "output_type": "stream",
     "text": [
      "Finished Processing\n",
      "Shape of X_train:  (16906, 96, 96)\n",
      "Shape of y_train:  (16906,)\n",
      "Shape of X_test:  (11269, 96, 96)\n",
      "Shape of y_test:  (11269,)\n"
     ]
    }
   ],
   "source": [
    "print(\"Finished Processing\")\n",
    "print(\"Shape of X_train: \", X_train.shape)\n",
    "print(\"Shape of y_train: \", y_train.shape)\n",
    "print(\"Shape of X_test: \", X_test.shape)\n",
    "print(\"Shape of y_test: \", y_test.shape)"
   ],
   "metadata": {
    "collapsed": false,
    "ExecuteTime": {
     "end_time": "2024-03-23T18:02:15.439154900Z",
     "start_time": "2024-03-23T18:02:15.423403500Z"
    }
   },
   "id": "915eaa76e12b88f",
   "execution_count": 7
  },
  {
   "cell_type": "code",
   "outputs": [],
   "source": [
    "y_train_resize = y_train.reshape(-1,1,1)\n",
    "y_test_resize = y_test.reshape(-1,1,1)\n",
    "# y_train_resize = y_train_resize.reshape(-1)\n",
    "# y_train_resize.shape"
   ],
   "metadata": {
    "collapsed": false,
    "ExecuteTime": {
     "end_time": "2024-03-23T18:22:35.894010800Z",
     "start_time": "2024-03-23T18:22:35.878836100Z"
    }
   },
   "id": "e04728a2b350194c",
   "execution_count": 45
  },
  {
   "cell_type": "code",
   "outputs": [],
   "source": [
    "train_data = (X_train,y_train_resize)"
   ],
   "metadata": {
    "collapsed": false,
    "ExecuteTime": {
     "end_time": "2024-03-23T18:22:39.577073Z",
     "start_time": "2024-03-23T18:22:39.555718100Z"
    }
   },
   "id": "5337f6cafc80aec5",
   "execution_count": 46
  },
  {
   "cell_type": "code",
   "outputs": [
    {
     "data": {
      "text/plain": "(array([[[ 76,  74,  70, ...,  45,  46,  46],\n         [ 75,  73,  68, ...,  43,  44,  44],\n         [ 73,  70,  64, ...,  42,  42,  43],\n         ...,\n         [ 20,  21,  21, ...,  36,  45,  37],\n         [ 21,  21,  21, ...,  29,  31,  29],\n         [ 19,  20,  21, ...,  23,  29,  23]],\n \n        [[224, 230, 232, ..., 211, 212, 203],\n         [229, 234, 236, ..., 216, 215, 206],\n         [232, 237, 238, ..., 217, 216, 207],\n         ...,\n         [176, 181, 178, ..., 148, 151, 151],\n         [172, 170, 167, ..., 153, 153, 144],\n         [162, 161, 166, ..., 147, 156, 153]],\n \n        [[ 88,  86,  84, ...,  46,  48,  50],\n         [ 87,  85,  84, ...,  29,  38,  31],\n         [ 89,  88,  85, ...,  27,  33,  32],\n         ...,\n         [ 34,  40,  44, ...,  19,  25,  31],\n         [ 44,  38,  39, ...,  19,  24,  29],\n         [ 35,  41,  42, ...,  17,  22,  26]],\n \n        ...,\n \n        [[ 84,  76,  75, ...,  13,  24,  28],\n         [ 80,  75,  73, ...,  19,  21,  32],\n         [ 74,  73,  67, ...,  19,  27,  33],\n         ...,\n         [ 16,   9,  15, ...,  39,  47, 209],\n         [  0,   0,   1, ...,  48,  55, 147],\n         [  0,   0,   0, ...,  60,  89, 139]],\n \n        [[137, 140, 147, ...,  90,  57,  53],\n         [139, 142, 147, ...,  94,  70,  55],\n         [143, 142, 145, ...,  75,  65,  64],\n         ...,\n         [169, 138, 138, ...,  41,  44,  44],\n         [175, 139, 164, ...,  35,  35,  34],\n         [156, 164, 201, ...,  26,  26,  27]],\n \n        [[  3,   3,   4, ...,  38,  37,  35],\n         [  4,   4,   3, ...,  47,  45,  41],\n         [  3,   4,   4, ...,  57,  53,  49],\n         ...,\n         [ 57,  55,  50, ..., 123, 138,  97],\n         [ 63,  57,  48, ...,  42, 133, 147],\n         [ 69,  58,  49, ...,   9, 150, 136]]]),\n array([[['surprise']],\n \n        [['surprise']],\n \n        [['surprise']],\n \n        ...,\n \n        [['happy']],\n \n        [['happy']],\n \n        [['happy']]], dtype='<U8'))"
     },
     "execution_count": 51,
     "metadata": {},
     "output_type": "execute_result"
    }
   ],
   "source": [
    "train_data"
   ],
   "metadata": {
    "collapsed": false,
    "ExecuteTime": {
     "end_time": "2024-03-23T18:22:54.599114600Z",
     "start_time": "2024-03-23T18:22:54.564530700Z"
    }
   },
   "id": "67590e354e7f7973",
   "execution_count": 51
  },
  {
   "cell_type": "code",
   "outputs": [],
   "source": [
    "test_data = (X_test,y_test_resize)"
   ],
   "metadata": {
    "collapsed": false,
    "ExecuteTime": {
     "end_time": "2024-03-23T18:22:56.747655400Z",
     "start_time": "2024-03-23T18:22:56.735488700Z"
    }
   },
   "id": "d98d3d7df3ac8047",
   "execution_count": 52
  },
  {
   "cell_type": "code",
   "outputs": [
    {
     "data": {
      "text/plain": "(array([[[ 90,  89,  85, ..., 105, 118, 106],\n         [ 92,  90,  85, ..., 116, 102, 113],\n         [ 91,  89,  84, ..., 120, 100, 100],\n         ...,\n         [ 89,  86,  83, ...,  39,  33,  26],\n         [ 91,  87,  83, ...,  35,  30,  35],\n         [ 91,  88,  86, ...,  38,  28,  37]],\n \n        [[ 64,  65,  66, ..., 176, 177, 180],\n         [ 65,  66,  68, ..., 175, 175, 177],\n         [ 65,  67,  68, ..., 178, 178, 178],\n         ...,\n         [177, 192, 233, ..., 159, 166, 166],\n         [181, 185, 253, ..., 157, 164, 164],\n         [181, 186, 249, ..., 153, 161, 162]],\n \n        [[221, 219, 218, ..., 227, 225, 223],\n         [219, 219, 217, ..., 227, 226, 225],\n         [217, 216, 216, ..., 228, 228, 227],\n         ...,\n         [ 48,  40,  40, ..., 234, 235, 236],\n         [ 47,  38,  35, ..., 235, 235, 235],\n         [ 44,  36,  36, ..., 234, 234, 233]],\n \n        ...,\n \n        [[240, 240, 239, ..., 223, 223, 222],\n         [240, 239, 239, ..., 223, 223, 222],\n         [239, 239, 239, ..., 224, 223, 223],\n         ...,\n         [244, 244, 243, ..., 150, 149, 146],\n         [244, 244, 243, ..., 153, 151, 148],\n         [244, 244, 243, ..., 153, 151, 149]],\n \n        [[ 44,  35,  30, ...,  79,  73,  75],\n         [ 34,  29,  29, ...,  56,  61,  69],\n         [ 31,  29,  30, ...,  66,  69,  71],\n         ...,\n         [ 16,  17,  18, ...,  42,  42,  43],\n         [ 13,  12,  12, ...,  42,  42,  42],\n         [ 16,  16,  18, ...,  41,  41,  41]],\n \n        [[128, 123, 121, ...,  56,  61,  66],\n         [127, 124, 122, ...,  51,  55,  61],\n         [125, 125, 124, ...,  52,  57,  57],\n         ...,\n         [ 30,  27,  30, ...,  46,  45,  44],\n         [ 29,  24,  25, ...,  43,  44,  45],\n         [ 26,  24,  24, ...,  45,  43,  44]]]),\n array([[['surprise']],\n \n        [['surprise']],\n \n        [['surprise']],\n \n        ...,\n \n        [['happy']],\n \n        [['happy']],\n \n        [['happy']]], dtype='<U8'))"
     },
     "execution_count": 53,
     "metadata": {},
     "output_type": "execute_result"
    }
   ],
   "source": [
    "test_data"
   ],
   "metadata": {
    "collapsed": false,
    "ExecuteTime": {
     "end_time": "2024-03-23T18:22:57.390239100Z",
     "start_time": "2024-03-23T18:22:57.282668800Z"
    }
   },
   "id": "230d51d0df2a10c9",
   "execution_count": 53
  },
  {
   "cell_type": "markdown",
   "source": [],
   "metadata": {
    "collapsed": false
   },
   "id": "3abdf5a04b13a018"
  },
  {
   "cell_type": "code",
   "outputs": [],
   "source": [
    "np.savez(\"./dataset/npz_data/X_train.npz\", X_train)\n",
    "np.savez(\"./dataset/npz_data/y_train.npz\", y_train)\n",
    "np.savez(\"./dataset/npz_data/X_test.npz\", X_test)\n",
    "np.savez(\"./dataset/npz_data/y_test.npz\", y_test)"
   ],
   "metadata": {
    "collapsed": false,
    "ExecuteTime": {
     "end_time": "2024-03-23T18:26:06.781336500Z",
     "start_time": "2024-03-23T18:26:05.945357700Z"
    }
   },
   "id": "f24333efb62ecdd",
   "execution_count": 58
  },
  {
   "cell_type": "code",
   "outputs": [],
   "source": [],
   "metadata": {
    "collapsed": false
   },
   "id": "7af8c7433d33a05"
  }
 ],
 "metadata": {
  "kernelspec": {
   "display_name": "Python 3",
   "language": "python",
   "name": "python3"
  },
  "language_info": {
   "codemirror_mode": {
    "name": "ipython",
    "version": 2
   },
   "file_extension": ".py",
   "mimetype": "text/x-python",
   "name": "python",
   "nbconvert_exporter": "python",
   "pygments_lexer": "ipython2",
   "version": "2.7.6"
  }
 },
 "nbformat": 4,
 "nbformat_minor": 5
}
