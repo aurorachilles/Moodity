{
 "cells": [
  {
   "cell_type": "code",
   "execution_count": 3,
   "id": "initial_id",
   "metadata": {
    "collapsed": true,
    "ExecuteTime": {
     "end_time": "2024-03-22T23:42:42.357886800Z",
     "start_time": "2024-03-22T23:42:42.336812900Z"
    }
   },
   "outputs": [],
   "source": [
    "import pandas\n",
    "import pandas as pd\n",
    "import numpy as np\n",
    "import cv2\n",
    "from tqdm import tqdm"
   ]
  },
  {
   "cell_type": "code",
   "outputs": [],
   "source": [
    "def img_to_arr_grey(data: pandas.DataFrame) -> [np.array, np.array]:\n",
    "    x_ = np.empty((0, 96, 96), dtype=int)\n",
    "    y_ = np.empty((0,), dtype=str)\n",
    "    for i in tqdm(range(data.shape[0])):\n",
    "        path = \"./dataset/\" + data.iloc[i, 0]\n",
    "        img = cv2.imread(path)\n",
    "        grey_s = cv2.cvtColor(img, cv2.COLOR_BGR2GRAY)\n",
    "        x_ = np.append(x_, [grey_s], axis=0)\n",
    "        y_ = np.append(y_, data.iloc[i, 1])\n",
    "    return [x_,y_]"
   ],
   "metadata": {
    "collapsed": false,
    "ExecuteTime": {
     "end_time": "2024-03-23T00:07:05.875234700Z",
     "start_time": "2024-03-23T00:07:05.853279300Z"
    }
   },
   "id": "fc6617dca17871be",
   "execution_count": 18
  },
  {
   "cell_type": "code",
   "outputs": [],
   "source": [
    "train_data = pd.read_csv('./dataset/train_data_labels.csv').drop(columns=['Unnamed: 0'])\n",
    "test_data = pd.read_csv('./dataset/test_data_labels.csv').drop(columns=['Unnamed: 0'])"
   ],
   "metadata": {
    "collapsed": false,
    "ExecuteTime": {
     "end_time": "2024-03-22T23:42:45.232486300Z",
     "start_time": "2024-03-22T23:42:45.183912700Z"
    }
   },
   "id": "a0194a7ebf51937d",
   "execution_count": 5
  },
  {
   "cell_type": "code",
   "outputs": [
    {
     "name": "stderr",
     "output_type": "stream",
     "text": [
      "100%|██████████| 16906/16906 [13:00<00:00, 21.67it/s]\n"
     ]
    }
   ],
   "source": [
    "X_train, y_train = img_to_arr_grey(train_data)"
   ],
   "metadata": {
    "collapsed": false,
    "ExecuteTime": {
     "end_time": "2024-03-22T23:55:46.534801300Z",
     "start_time": "2024-03-22T23:42:46.465363500Z"
    }
   },
   "id": "d5eaa2959428b743",
   "execution_count": 6
  },
  {
   "cell_type": "code",
   "outputs": [
    {
     "name": "stderr",
     "output_type": "stream",
     "text": [
      "100%|██████████| 11269/11269 [06:07<00:00, 30.70it/s]\n"
     ]
    }
   ],
   "source": [
    "X_test, y_test = img_to_arr_grey(test_data)"
   ],
   "metadata": {
    "collapsed": false,
    "ExecuteTime": {
     "end_time": "2024-03-23T00:01:53.643183900Z",
     "start_time": "2024-03-22T23:55:46.548887300Z"
    }
   },
   "id": "3b18f25d2c9a9248",
   "execution_count": 7
  },
  {
   "cell_type": "code",
   "outputs": [
    {
     "name": "stdout",
     "output_type": "stream",
     "text": [
      "Finished Processing\n",
      "Shape of X_train:  (16906, 96, 96)\n",
      "Shape of y_train:  (16906,)\n",
      "Shape of X_test:  (11269, 96, 96)\n",
      "Shape of y_test:  (11269,)\n"
     ]
    }
   ],
   "source": [
    "print(\"Finished Processing\")\n",
    "print(\"Shape of X_train: \", X_train.shape)\n",
    "print(\"Shape of y_train: \", y_train.shape)\n",
    "print(\"Shape of X_test: \", X_test.shape)\n",
    "print(\"Shape of y_test: \", y_test.shape)"
   ],
   "metadata": {
    "collapsed": false,
    "ExecuteTime": {
     "end_time": "2024-03-23T00:01:53.685551600Z",
     "start_time": "2024-03-23T00:01:53.643183900Z"
    }
   },
   "id": "915eaa76e12b88f",
   "execution_count": 8
  },
  {
   "cell_type": "code",
   "outputs": [],
   "source": [],
   "metadata": {
    "collapsed": false
   },
   "id": "5337f6cafc80aec5"
  }
 ],
 "metadata": {
  "kernelspec": {
   "display_name": "Python 3",
   "language": "python",
   "name": "python3"
  },
  "language_info": {
   "codemirror_mode": {
    "name": "ipython",
    "version": 2
   },
   "file_extension": ".py",
   "mimetype": "text/x-python",
   "name": "python",
   "nbconvert_exporter": "python",
   "pygments_lexer": "ipython2",
   "version": "2.7.6"
  }
 },
 "nbformat": 4,
 "nbformat_minor": 5
}
